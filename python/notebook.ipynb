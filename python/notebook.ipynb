{
 "cells": [
  {
   "cell_type": "code",
   "execution_count": 15,
   "metadata": {},
   "outputs": [
    {
     "name": "stderr",
     "output_type": "stream",
     "text": [
      "......................................"
     ]
    },
    {
     "name": "stderr",
     "output_type": "stream",
     "text": [
      "............................................................................................................................................................."
     ]
    },
    {
     "name": "stdout",
     "output_type": "stream",
     "text": [
      "bitarray is installed in: /Users/konrad/opt/anaconda3/envs/ms-thesis/lib/python3.11/site-packages/bitarray\n",
      "bitarray version: 2.5.1\n",
      "sys.version: 3.11.3 (main, May 15 2023, 18:01:31) [Clang 14.0.6 ]\n",
      "sys.prefix: /Users/konrad/opt/anaconda3/envs/ms-thesis\n",
      "pointer size: 64 bit\n",
      "sizeof(size_t): 8\n",
      "sizeof(bitarrayobject): 80\n",
      "PY_UINT64_T defined: 1\n",
      "USE_WORD_SHIFT: 1\n",
      "DEBUG: 0\n"
     ]
    },
    {
     "name": "stderr",
     "output_type": "stream",
     "text": [
      "................................................................................................................................................................................................................................................................................................................................................................................................................................................................................................................\n",
      "----------------------------------------------------------------------\n",
      "Ran 691 tests in 0.697s\n",
      "\n",
      "OK\n"
     ]
    },
    {
     "data": {
      "text/plain": [
       "True"
      ]
     },
     "execution_count": 15,
     "metadata": {},
     "output_type": "execute_result"
    }
   ],
   "source": [
    "import bitarray\n",
    "bitarray.test().wasSuccessful()"
   ]
  },
  {
   "cell_type": "code",
   "execution_count": 2,
   "metadata": {},
   "outputs": [],
   "source": [
    "from bitarray import bitarray as ba\n",
    "arr = ba(10*10)\n",
    "arr.setall(False)\n",
    "\n",
    "NROW = 10\n",
    "NCOL = 10"
   ]
  },
  {
   "cell_type": "code",
   "execution_count": 3,
   "metadata": {},
   "outputs": [
    {
     "data": {
      "text/plain": [
       "bitarray('1100000000100000000000100000000000000000000000000000000000000000000000000000000000000000000000000001')"
      ]
     },
     "execution_count": 3,
     "metadata": {},
     "output_type": "execute_result"
    }
   ],
   "source": [
    "# index (r,c) -> skip r rows and then advance c positions\n",
    "r, c = 3 , 4\n",
    "\n",
    "def idx(r,c):\n",
    "    return r * NCOL + c\n",
    "\n",
    "arr.setall(0)\n",
    "arr[idx(0,0)] = True\n",
    "arr[idx(9,9)] = True\n",
    "arr[idx(2,2)] = True\n",
    "arr[idx(0,1)] = True\n",
    "arr[idx(1,0)] = True\n",
    "arr"
   ]
  },
  {
   "cell_type": "code",
   "execution_count": null,
   "metadata": {},
   "outputs": [],
   "source": [
    "\n",
    "\n"
   ]
  },
  {
   "cell_type": "code",
   "execution_count": 4,
   "metadata": {},
   "outputs": [],
   "source": [
    "import numpy as np\n",
    "arr = ba()"
   ]
  },
  {
   "cell_type": "code",
   "execution_count": 5,
   "metadata": {},
   "outputs": [],
   "source": [
    "np_vec = np.random.binomial(n=1, p=0.5, size=1000**2)\n",
    "arr = ba(np_vec.tolist())"
   ]
  },
  {
   "cell_type": "code",
   "execution_count": 6,
   "metadata": {},
   "outputs": [],
   "source": [
    "arr[0] = 1"
   ]
  },
  {
   "cell_type": "code",
   "execution_count": 12,
   "metadata": {},
   "outputs": [
    {
     "name": "stdout",
     "output_type": "stream",
     "text": [
      "[-3 -2]\n"
     ]
    }
   ],
   "source": [
    "x = np.array([0,1]) - 3\n",
    "print(x)"
   ]
  },
  {
   "cell_type": "code",
   "execution_count": 21,
   "metadata": {},
   "outputs": [
    {
     "data": {
      "text/plain": [
       "array([[0, 0, 0, 0],\n",
       "       [0, 0, 0, 0],\n",
       "       [0, 1, 1, 0],\n",
       "       [0, 1, 1, 0],\n",
       "       [0, 1, 1, 0],\n",
       "       [0, 0, 0, 0],\n",
       "       [0, 0, 0, 0]])"
      ]
     },
     "execution_count": 21,
     "metadata": {},
     "output_type": "execute_result"
    }
   ],
   "source": [
    "list = [[0,0,0,0], [0,0,0,0], [0,1,1,0], [0,1,1,0], [0,1,1,0], [0,0,0,0], [0,0,0,0]]\n",
    "mat = np.array(list)\n",
    "mat"
   ]
  },
  {
   "cell_type": "code",
   "execution_count": 26,
   "metadata": {},
   "outputs": [
    {
     "data": {
      "text/plain": [
       "array([0, 0, 0, 0, 0, 0, 0, 0, 0, 1, 1, 0, 0, 1, 1, 0, 0, 1, 1, 0, 0, 0,\n",
       "       0, 0, 0, 0, 0, 0])"
      ]
     },
     "execution_count": 26,
     "metadata": {},
     "output_type": "execute_result"
    }
   ],
   "source": [
    "mat.flatten()"
   ]
  },
  {
   "cell_type": "code",
   "execution_count": 28,
   "metadata": {},
   "outputs": [],
   "source": [
    "x = {(0,1), (2,3)}"
   ]
  },
  {
   "cell_type": "code",
   "execution_count": 29,
   "metadata": {},
   "outputs": [],
   "source": [
    "x.add((1,1))\n",
    "x.add((0,1))"
   ]
  },
  {
   "cell_type": "code",
   "execution_count": 30,
   "metadata": {},
   "outputs": [
    {
     "data": {
      "text/plain": [
       "{(0, 1), (1, 1), (2, 3)}"
      ]
     },
     "execution_count": 30,
     "metadata": {},
     "output_type": "execute_result"
    }
   ],
   "source": [
    "x"
   ]
  },
  {
   "cell_type": "code",
   "execution_count": 36,
   "metadata": {},
   "outputs": [
    {
     "data": {
      "text/plain": [
       "2"
      ]
     },
     "execution_count": 36,
     "metadata": {},
     "output_type": "execute_result"
    }
   ],
   "source": [
    "np.random.choice(len(x))"
   ]
  },
  {
   "cell_type": "code",
   "execution_count": 38,
   "metadata": {},
   "outputs": [
    {
     "ename": "TypeError",
     "evalue": "'set' object is not subscriptable",
     "output_type": "error",
     "traceback": [
      "\u001b[0;31m---------------------------------------------------------------------------\u001b[0m",
      "\u001b[0;31mTypeError\u001b[0m                                 Traceback (most recent call last)",
      "Cell \u001b[0;32mIn[38], line 1\u001b[0m\n\u001b[0;32m----> 1\u001b[0m x[\u001b[39m0\u001b[39m]\n",
      "\u001b[0;31mTypeError\u001b[0m: 'set' object is not subscriptable"
     ]
    }
   ],
   "source": [
    "x[0]"
   ]
  },
  {
   "cell_type": "code",
   "execution_count": 3,
   "metadata": {},
   "outputs": [
    {
     "data": {
      "text/plain": [
       "bitarray('10001')"
      ]
     },
     "execution_count": 3,
     "metadata": {},
     "output_type": "execute_result"
    }
   ],
   "source": [
    "a =    ba('1001001')\n",
    "mask = ba('1010111')\n",
    "a[mask] "
   ]
  },
  {
   "cell_type": "code",
   "execution_count": 45,
   "metadata": {},
   "outputs": [
    {
     "ename": "ImportError",
     "evalue": "cannot import name '_bitarray_reconstructor' from 'bitarray._bitarray' (/Users/konrad/opt/anaconda3/envs/ms-thesis/lib/python3.11/site-packages/bitarray/_bitarray.cpython-311-darwin.so)",
     "output_type": "error",
     "traceback": [
      "\u001b[0;31m---------------------------------------------------------------------------\u001b[0m",
      "\u001b[0;31mImportError\u001b[0m                               Traceback (most recent call last)",
      "Cell \u001b[0;32mIn[45], line 2\u001b[0m\n\u001b[1;32m      1\u001b[0m \u001b[39mimport\u001b[39;00m \u001b[39mimportlib\u001b[39;00m\n\u001b[0;32m----> 2\u001b[0m importlib\u001b[39m.\u001b[39mreload(bitarray)\n\u001b[1;32m      3\u001b[0m \u001b[39mimport\u001b[39;00m \u001b[39mbitarray\u001b[39;00m\n\u001b[1;32m      4\u001b[0m bitarray\u001b[39m.\u001b[39m__version__\n",
      "File \u001b[0;32m~/opt/anaconda3/envs/ms-thesis/lib/python3.11/importlib/__init__.py:169\u001b[0m, in \u001b[0;36mreload\u001b[0;34m(module)\u001b[0m\n\u001b[1;32m    167\u001b[0m \u001b[39mif\u001b[39;00m spec \u001b[39mis\u001b[39;00m \u001b[39mNone\u001b[39;00m:\n\u001b[1;32m    168\u001b[0m     \u001b[39mraise\u001b[39;00m \u001b[39mModuleNotFoundError\u001b[39;00m(\u001b[39mf\u001b[39m\u001b[39m\"\u001b[39m\u001b[39mspec not found for the module \u001b[39m\u001b[39m{\u001b[39;00mname\u001b[39m!r}\u001b[39;00m\u001b[39m\"\u001b[39m, name\u001b[39m=\u001b[39mname)\n\u001b[0;32m--> 169\u001b[0m _bootstrap\u001b[39m.\u001b[39m_exec(spec, module)\n\u001b[1;32m    170\u001b[0m \u001b[39m# The module may have replaced itself in sys.modules!\u001b[39;00m\n\u001b[1;32m    171\u001b[0m \u001b[39mreturn\u001b[39;00m sys\u001b[39m.\u001b[39mmodules[name]\n",
      "File \u001b[0;32m<frozen importlib._bootstrap>:621\u001b[0m, in \u001b[0;36m_exec\u001b[0;34m(spec, module)\u001b[0m\n",
      "File \u001b[0;32m<frozen importlib._bootstrap_external>:940\u001b[0m, in \u001b[0;36mexec_module\u001b[0;34m(self, module)\u001b[0m\n",
      "File \u001b[0;32m<frozen importlib._bootstrap>:241\u001b[0m, in \u001b[0;36m_call_with_frames_removed\u001b[0;34m(f, *args, **kwds)\u001b[0m\n",
      "File \u001b[0;32m~/opt/anaconda3/envs/ms-thesis/lib/python3.11/site-packages/bitarray/__init__.py:14\u001b[0m\n\u001b[1;32m      2\u001b[0m \u001b[39m\"\"\"\u001b[39;00m\n\u001b[1;32m      3\u001b[0m \u001b[39mThis package defines an object type which can efficiently represent\u001b[39;00m\n\u001b[1;32m      4\u001b[0m \u001b[39ma bitarray.  Bitarrays are sequence types and behave very much like lists.\u001b[39;00m\n\u001b[0;32m   (...)\u001b[0m\n\u001b[1;32m     10\u001b[0m \u001b[39mAuthor: Ilan Schnell\u001b[39;00m\n\u001b[1;32m     11\u001b[0m \u001b[39m\"\"\"\u001b[39;00m\n\u001b[1;32m     12\u001b[0m \u001b[39mfrom\u001b[39;00m \u001b[39m__future__\u001b[39;00m \u001b[39mimport\u001b[39;00m absolute_import\n\u001b[0;32m---> 14\u001b[0m \u001b[39mfrom\u001b[39;00m \u001b[39mbitarray\u001b[39;00m\u001b[39m.\u001b[39;00m\u001b[39m_bitarray\u001b[39;00m \u001b[39mimport\u001b[39;00m (bitarray, decodetree, _sysinfo,\n\u001b[1;32m     15\u001b[0m                                 _bitarray_reconstructor,\n\u001b[1;32m     16\u001b[0m                                 get_default_endian, _set_default_endian,\n\u001b[1;32m     17\u001b[0m                                 __version__)\n\u001b[1;32m     20\u001b[0m __all__ \u001b[39m=\u001b[39m [\u001b[39m'\u001b[39m\u001b[39mbitarray\u001b[39m\u001b[39m'\u001b[39m, \u001b[39m'\u001b[39m\u001b[39mfrozenbitarray\u001b[39m\u001b[39m'\u001b[39m, \u001b[39m'\u001b[39m\u001b[39mdecodetree\u001b[39m\u001b[39m'\u001b[39m, \u001b[39m'\u001b[39m\u001b[39mbits2bytes\u001b[39m\u001b[39m'\u001b[39m]\n\u001b[1;32m     23\u001b[0m \u001b[39mclass\u001b[39;00m \u001b[39mfrozenbitarray\u001b[39;00m(bitarray):\n",
      "\u001b[0;31mImportError\u001b[0m: cannot import name '_bitarray_reconstructor' from 'bitarray._bitarray' (/Users/konrad/opt/anaconda3/envs/ms-thesis/lib/python3.11/site-packages/bitarray/_bitarray.cpython-311-darwin.so)"
     ]
    }
   ],
   "source": [
    "import importlib\n",
    "importlib.reload(bitarray)\n",
    "import bitarray\n",
    "bitarray.__version__"
   ]
  },
  {
   "cell_type": "code",
   "execution_count": 1,
   "metadata": {},
   "outputs": [
    {
     "data": {
      "text/plain": [
       "'2.8.1'"
      ]
     },
     "execution_count": 1,
     "metadata": {},
     "output_type": "execute_result"
    }
   ],
   "source": [
    "import bitarray\n",
    "bitarray.__version__"
   ]
  },
  {
   "cell_type": "code",
   "execution_count": null,
   "metadata": {},
   "outputs": [],
   "source": []
  }
 ],
 "metadata": {
  "kernelspec": {
   "display_name": "ms-thesis",
   "language": "python",
   "name": "python3"
  },
  "language_info": {
   "codemirror_mode": {
    "name": "ipython",
    "version": 3
   },
   "file_extension": ".py",
   "mimetype": "text/x-python",
   "name": "python",
   "nbconvert_exporter": "python",
   "pygments_lexer": "ipython3",
   "version": "3.11.3"
  },
  "orig_nbformat": 4
 },
 "nbformat": 4,
 "nbformat_minor": 2
}
