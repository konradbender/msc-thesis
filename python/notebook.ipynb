{
 "cells": [
  {
   "cell_type": "code",
   "execution_count": 15,
   "metadata": {},
   "outputs": [
    {
     "name": "stderr",
     "output_type": "stream",
     "text": [
      "......................................"
     ]
    },
    {
     "name": "stderr",
     "output_type": "stream",
     "text": [
      "............................................................................................................................................................."
     ]
    },
    {
     "name": "stdout",
     "output_type": "stream",
     "text": [
      "bitarray is installed in: /Users/konrad/opt/anaconda3/envs/ms-thesis/lib/python3.11/site-packages/bitarray\n",
      "bitarray version: 2.5.1\n",
      "sys.version: 3.11.3 (main, May 15 2023, 18:01:31) [Clang 14.0.6 ]\n",
      "sys.prefix: /Users/konrad/opt/anaconda3/envs/ms-thesis\n",
      "pointer size: 64 bit\n",
      "sizeof(size_t): 8\n",
      "sizeof(bitarrayobject): 80\n",
      "PY_UINT64_T defined: 1\n",
      "USE_WORD_SHIFT: 1\n",
      "DEBUG: 0\n"
     ]
    },
    {
     "name": "stderr",
     "output_type": "stream",
     "text": [
      "................................................................................................................................................................................................................................................................................................................................................................................................................................................................................................................\n",
      "----------------------------------------------------------------------\n",
      "Ran 691 tests in 0.697s\n",
      "\n",
      "OK\n"
     ]
    },
    {
     "data": {
      "text/plain": [
       "True"
      ]
     },
     "execution_count": 15,
     "metadata": {},
     "output_type": "execute_result"
    }
   ],
   "source": [
    "import bitarray\n",
    "bitarray.test().wasSuccessful()"
   ]
  },
  {
   "cell_type": "code",
   "execution_count": 2,
   "metadata": {},
   "outputs": [],
   "source": [
    "from bitarray import bitarray as ba\n",
    "arr = ba(10*10)\n",
    "arr.setall(False)\n",
    "\n",
    "NROW = 10\n",
    "NCOL = 10"
   ]
  },
  {
   "cell_type": "code",
   "execution_count": 3,
   "metadata": {},
   "outputs": [
    {
     "data": {
      "text/plain": [
       "bitarray('1100000000100000000000100000000000000000000000000000000000000000000000000000000000000000000000000001')"
      ]
     },
     "execution_count": 3,
     "metadata": {},
     "output_type": "execute_result"
    }
   ],
   "source": [
    "# index (r,c) -> skip r rows and then advance c positions\n",
    "r, c = 3 , 4\n",
    "\n",
    "def idx(r,c):\n",
    "    return r * NCOL + c\n",
    "\n",
    "arr.setall(0)\n",
    "arr[idx(0,0)] = True\n",
    "arr[idx(9,9)] = True\n",
    "arr[idx(2,2)] = True\n",
    "arr[idx(0,1)] = True\n",
    "arr[idx(1,0)] = True\n",
    "arr"
   ]
  },
  {
   "cell_type": "code",
   "execution_count": null,
   "metadata": {},
   "outputs": [],
   "source": [
    "\n",
    "\n"
   ]
  },
  {
   "cell_type": "code",
   "execution_count": 4,
   "metadata": {},
   "outputs": [],
   "source": [
    "import numpy as np\n",
    "arr = ba()"
   ]
  },
  {
   "cell_type": "code",
   "execution_count": 5,
   "metadata": {},
   "outputs": [],
   "source": [
    "np_vec = np.random.binomial(n=1, p=0.5, size=1000**2)\n",
    "arr = ba(np_vec.tolist())"
   ]
  },
  {
   "cell_type": "code",
   "execution_count": 6,
   "metadata": {},
   "outputs": [],
   "source": [
    "arr[0] = 1"
   ]
  },
  {
   "cell_type": "code",
   "execution_count": 12,
   "metadata": {},
   "outputs": [
    {
     "name": "stdout",
     "output_type": "stream",
     "text": [
      "[-3 -2]\n"
     ]
    }
   ],
   "source": [
    "x = np.array([0,1]) - 3\n",
    "print(x)"
   ]
  },
  {
   "cell_type": "code",
   "execution_count": 21,
   "metadata": {},
   "outputs": [
    {
     "data": {
      "text/plain": [
       "array([[0, 0, 0, 0],\n",
       "       [0, 0, 0, 0],\n",
       "       [0, 1, 1, 0],\n",
       "       [0, 1, 1, 0],\n",
       "       [0, 1, 1, 0],\n",
       "       [0, 0, 0, 0],\n",
       "       [0, 0, 0, 0]])"
      ]
     },
     "execution_count": 21,
     "metadata": {},
     "output_type": "execute_result"
    }
   ],
   "source": [
    "list = [[0,0,0,0], [0,0,0,0], [0,1,1,0], [0,1,1,0], [0,1,1,0], [0,0,0,0], [0,0,0,0]]\n",
    "mat = np.array(list)\n",
    "mat"
   ]
  },
  {
   "cell_type": "code",
   "execution_count": 26,
   "metadata": {},
   "outputs": [
    {
     "data": {
      "text/plain": [
       "array([0, 0, 0, 0, 0, 0, 0, 0, 0, 1, 1, 0, 0, 1, 1, 0, 0, 1, 1, 0, 0, 0,\n",
       "       0, 0, 0, 0, 0, 0])"
      ]
     },
     "execution_count": 26,
     "metadata": {},
     "output_type": "execute_result"
    }
   ],
   "source": [
    "mat.flatten()"
   ]
  },
  {
   "cell_type": "code",
   "execution_count": null,
   "metadata": {},
   "outputs": [],
   "source": []
  }
 ],
 "metadata": {
  "kernelspec": {
   "display_name": "ms-thesis",
   "language": "python",
   "name": "python3"
  },
  "language_info": {
   "codemirror_mode": {
    "name": "ipython",
    "version": 3
   },
   "file_extension": ".py",
   "mimetype": "text/x-python",
   "name": "python",
   "nbconvert_exporter": "python",
   "pygments_lexer": "ipython3",
   "version": "3.11.3"
  },
  "orig_nbformat": 4
 },
 "nbformat": 4,
 "nbformat_minor": 2
}
