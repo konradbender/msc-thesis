{
 "cells": [
  {
   "cell_type": "code",
   "execution_count": 2,
   "metadata": {},
   "outputs": [
    {
     "name": "stderr",
     "output_type": "stream",
     "text": [
      "........................................................................................................................................................................................................................"
     ]
    },
    {
     "name": "stdout",
     "output_type": "stream",
     "text": [
      "bitarray is installed in: /Users/konrad/opt/anaconda3/envs/ms-thesis/lib/python3.11/site-packages/bitarray\n",
      "bitarray version: 2.5.1\n",
      "sys.version: 3.11.3 (main, May 15 2023, 18:01:31) [Clang 14.0.6 ]\n",
      "sys.prefix: /Users/konrad/opt/anaconda3/envs/ms-thesis\n",
      "pointer size: 64 bit\n",
      "sizeof(size_t): 8\n",
      "sizeof(bitarrayobject): 80\n",
      "PY_UINT64_T defined: 1\n",
      "USE_WORD_SHIFT: 1\n",
      "DEBUG: 0\n"
     ]
    },
    {
     "name": "stderr",
     "output_type": "stream",
     "text": [
      "..........................................................................................................................................................................................................................................................................................................................................................\n",
      "----------------------------------------------------------------------\n",
      "Ran 562 tests in 0.507s\n",
      "\n",
      "OK\n"
     ]
    },
    {
     "data": {
      "text/plain": [
       "True"
      ]
     },
     "execution_count": 2,
     "metadata": {},
     "output_type": "execute_result"
    }
   ],
   "source": [
    "import bitarray\n",
    "bitarray.test().wasSuccessful()"
   ]
  },
  {
   "cell_type": "code",
   "execution_count": null,
   "metadata": {},
   "outputs": [],
   "source": []
  }
 ],
 "metadata": {
  "kernelspec": {
   "display_name": "ms-thesis",
   "language": "python",
   "name": "python3"
  },
  "language_info": {
   "codemirror_mode": {
    "name": "ipython",
    "version": 3
   },
   "file_extension": ".py",
   "mimetype": "text/x-python",
   "name": "python",
   "nbconvert_exporter": "python",
   "pygments_lexer": "ipython3",
   "version": "3.11.3"
  },
  "orig_nbformat": 4
 },
 "nbformat": 4,
 "nbformat_minor": 2
}
